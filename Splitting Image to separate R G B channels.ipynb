{
 "cells": [
  {
   "cell_type": "markdown",
   "id": "aa8529b9",
   "metadata": {},
   "source": [
    "### Importing dependencies"
   ]
  },
  {
   "cell_type": "code",
   "execution_count": null,
   "id": "94c11a8b",
   "metadata": {},
   "outputs": [],
   "source": [
    "import cv2\n",
    "import numpy as np\n",
    "import matplotlib.pyplot as plt"
   ]
  },
  {
   "cell_type": "markdown",
   "id": "cd8f433e",
   "metadata": {},
   "source": [
    "### Splitting the channels\n"
   ]
  },
  {
   "cell_type": "code",
   "execution_count": null,
   "id": "c4f12549",
   "metadata": {},
   "outputs": [],
   "source": [
    "img = cv2.imread('c.png')\n",
    "plt.imshow(img)\n",
    "print(img.shape)\n",
    "#Original image\n",
    "img = cv2.imread('c.png')\n",
    "plt.imshow(img)\n",
    "print(img.shape)\n",
    "print(\"Top left\", img[0,0])\n",
    "b, g, r = cv2.split(img)"
   ]
  },
  {
   "cell_type": "markdown",
   "id": "24963a2e",
   "metadata": {},
   "source": [
    "### Displaying each channel\n"
   ]
  },
  {
   "cell_type": "code",
   "execution_count": null,
   "id": "b618ac30",
   "metadata": {},
   "outputs": [],
   "source": [
    "cv2.imshow(\"Blue\",b)\n",
    "cv2.waitKey(0)\n",
    "cv2.imwrite(\"Blue Channel.png\", b)\n",
    "cv2.destoryAllWindows()\n",
    "cv2.waitKey(0)\n",
    "cv2.destoryAllWindows()\n",
    "cv2.imshow(\"Green\",g)\n",
    "cv2.waitKey(0)\n",
    "cv2.imwrite(\"Green Channel.png\", g)\n",
    "cv2.destoryAllWindows()\n",
    "cv2.imshow(\"Red\",r)\n",
    "cv2.waitKey(0)\n",
    "cv2.imwrite(\"Red Channel.png\", r)\n",
    "cv2.destoryAllWindows()"
   ]
  }
 ],
 "metadata": {
  "kernelspec": {
   "display_name": "Python 3 (ipykernel)",
   "language": "python",
   "name": "python3"
  },
  "language_info": {
   "codemirror_mode": {
    "name": "ipython",
    "version": 3
   },
   "file_extension": ".py",
   "mimetype": "text/x-python",
   "name": "python",
   "nbconvert_exporter": "python",
   "pygments_lexer": "ipython3",
   "version": "3.9.7"
  }
 },
 "nbformat": 4,
 "nbformat_minor": 5
}
